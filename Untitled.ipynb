{
 "cells": [
  {
   "cell_type": "code",
   "execution_count": null,
   "metadata": {},
   "outputs": [],
   "source": [
    "\n",
    "print(type([\"World\"]))\n",
    "words = [\"hello\"]\n",
    "words.append([\"world\"])\n",
    "print(words)"
   ]
  },
  {
   "cell_type": "code",
   "execution_count": null,
   "metadata": {},
   "outputs": [],
   "source": [
    "numbers = list(range(6))\n",
    "print(numbers)"
   ]
  },
  {
   "cell_type": "code",
   "execution_count": 20,
   "metadata": {},
   "outputs": [
    {
     "name": "stdout",
     "output_type": "stream",
     "text": [
      "[6, 4, 2, 0]\n"
     ]
    }
   ],
   "source": [
    "numbers = list(range(0,7,2))\n",
    "numbers.reverse()\n",
    "print(numbers)"
   ]
  },
  {
   "cell_type": "code",
   "execution_count": 18,
   "metadata": {},
   "outputs": [
    {
     "name": "stdout",
     "output_type": "stream",
     "text": [
      "[6, 4, 2, 0]\n"
     ]
    }
   ],
   "source": [
    "numbers = list(range(6,-2,-2))\n",
    "print(numbers)\n"
   ]
  },
  {
   "cell_type": "code",
   "execution_count": 24,
   "metadata": {},
   "outputs": [
    {
     "name": "stdout",
     "output_type": "stream",
     "text": [
      "Masukkan angka : 9\n",
      "Angka 9 ini termasuk bilangan GANJIL\n"
     ]
    }
   ],
   "source": [
    "inputUser = input(\"Masukkan angka : \")\n",
    "\n",
    "if (int(inputUser)%2 == 0):\n",
    "    print(\"Angka\", int(inputUser), \"ini termasuk bilangan GENAP\")\n",
    "elif (int(inputUser)%2 == 1):\n",
    "    print(\"Angka\", int(inputUser), \"ini termasuk bilangan GANJIL\")\n",
    "else :\n",
    "    print ('Yang bener dong masukkin angka nya')"
   ]
  },
  {
   "cell_type": "code",
   "execution_count": 25,
   "metadata": {},
   "outputs": [
    {
     "name": "stdout",
     "output_type": "stream",
     "text": [
      " Masukkan Massa(kg) : 60\n",
      " Masukkan Tinggi(cm) : 170\n",
      "Massa 60 kg &  Tinggi 1.7 m\n"
     ]
    }
   ],
   "source": [
    "x = int(input(\" Masukkan Massa(kg) : \"))\n",
    "y = int(input(\" Masukkan Tinggi(cm) : \"))\n",
    "\n",
    "print(\"Massa\", x, \"kg & \", \"Tinggi\" ,y/100, \"m\")"
   ]
  },
  {
   "cell_type": "code",
   "execution_count": 31,
   "metadata": {},
   "outputs": [
    {
     "name": "stdout",
     "output_type": "stream",
     "text": [
      "$\n",
      "$$\n",
      "$$$\n",
      "$$$$\n",
      "$$$$$\n",
      "$$$$$$\n",
      "\n",
      "$$$$$$\n"
     ]
    }
   ],
   "source": [
    "x = ''\n",
    "for y in range(0,6):\n",
    "    x += \"$\"\n",
    "    print(x)\n",
    "print(\"\\n\"+x)"
   ]
  },
  {
   "cell_type": "code",
   "execution_count": 66,
   "metadata": {},
   "outputs": [
    {
     "name": "stdout",
     "output_type": "stream",
     "text": [
      "    *\n",
      "  * * * \n",
      "* * * * *\n",
      "\n",
      "    * \n",
      "  * * * \n",
      "* * * * * \n"
     ]
    }
   ],
   "source": [
    "print(\"\"\"    *\n",
    "  * * * \n",
    "* * * * *\n",
    "\"\"\")\n",
    "\n",
    "for a in range(3):\n",
    "    print(\" \"*(2-a)*2+\"* \"*(a*2+1))"
   ]
  },
  {
   "cell_type": "code",
   "execution_count": 51,
   "metadata": {
    "scrolled": false
   },
   "outputs": [
    {
     "name": "stdout",
     "output_type": "stream",
     "text": [
      "*\n",
      "**\n",
      "***\n",
      "****\n",
      "*****\n",
      "*\n",
      "**\n",
      "***\n",
      "****\n",
      "*****\n",
      "\n"
     ]
    }
   ],
   "source": [
    "\n",
    "for a in range (5):\n",
    "    for b in range (0, 1+a):\n",
    "        c += '*'\n",
    "    c += \"\\n\"\n",
    "print(c)"
   ]
  },
  {
   "cell_type": "code",
   "execution_count": 75,
   "metadata": {},
   "outputs": [
    {
     "name": "stdout",
     "output_type": "stream",
     "text": [
      "10\n",
      "5\n"
     ]
    }
   ],
   "source": [
    "a = 5\n",
    "b = 10\n",
    "c = a\n",
    "a = b\n",
    "b = c\n",
    "print(a)\n",
    "print(b)"
   ]
  },
  {
   "cell_type": "code",
   "execution_count": 78,
   "metadata": {},
   "outputs": [
    {
     "name": "stdout",
     "output_type": "stream",
     "text": [
      "3.141592653589793\n"
     ]
    }
   ],
   "source": [
    "from math import pi\n",
    "\n",
    "print (pi)"
   ]
  }
 ],
 "metadata": {
  "kernelspec": {
   "display_name": "Python 3",
   "language": "python",
   "name": "python3"
  },
  "language_info": {
   "codemirror_mode": {
    "name": "ipython",
    "version": 3
   },
   "file_extension": ".py",
   "mimetype": "text/x-python",
   "name": "python",
   "nbconvert_exporter": "python",
   "pygments_lexer": "ipython3",
   "version": "3.6.5"
  }
 },
 "nbformat": 4,
 "nbformat_minor": 2
}
